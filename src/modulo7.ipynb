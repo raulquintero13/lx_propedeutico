{
 "cells": [
  {
   "cell_type": "markdown",
   "metadata": {},
   "source": [
    "## Ejercicio 1"
   ]
  },
  {
   "cell_type": "code",
   "execution_count": 8,
   "metadata": {},
   "outputs": [],
   "source": [
    "inputs = []\n",
    "\n",
    "user_input = input('input  a new value, or type \\'done\\' when done')\n",
    "\n",
    "while user_input.lower() != 'done':\n",
    "    if user_input:\n",
    "        inputs.append(user_input)\n",
    "    user_input = input('Enter a new value, or type \\'done\\' done when done')\n",
    "\n"
   ]
  },
  {
   "cell_type": "markdown",
   "metadata": {},
   "source": [
    "## Ejercicio 2"
   ]
  },
  {
   "cell_type": "code",
   "execution_count": 11,
   "metadata": {},
   "outputs": [
    {
     "name": "stdout",
     "output_type": "stream",
     "text": [
      "los planetas capturados fueron: \n",
      "mercurio\n",
      "venus\n",
      "tirerra\n",
      "marte\n"
     ]
    }
   ],
   "source": [
    "\n",
    "planets = ['mercurio', 'venus', 'tierra', 'marte']\n",
    "print('los planetas capturados fueron: ')\n",
    "for planet in planets:\n",
    "    print (planet)\n"
   ]
  }
 ],
 "metadata": {
  "interpreter": {
   "hash": "e9fe5adb6c20d18e138bf59193d9e02a533cc65d36d4cea0c208e30ce467c3ce"
  },
  "kernelspec": {
   "display_name": "Python 3.10.2 ('env': venv)",
   "language": "python",
   "name": "python3"
  },
  "language_info": {
   "codemirror_mode": {
    "name": "ipython",
    "version": 3
   },
   "file_extension": ".py",
   "mimetype": "text/x-python",
   "name": "python",
   "nbconvert_exporter": "python",
   "pygments_lexer": "ipython3",
   "version": "3.10.2"
  },
  "orig_nbformat": 4
 },
 "nbformat": 4,
 "nbformat_minor": 2
}
