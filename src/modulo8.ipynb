{
 "cells": [
  {
   "cell_type": "markdown",
   "metadata": {},
   "source": [
    "## ejercicio 1"
   ]
  },
  {
   "cell_type": "code",
   "execution_count": 7,
   "metadata": {},
   "outputs": [
    {
     "name": "stdout",
     "output_type": "stream",
     "text": [
      "el planeta MARTE tiene 2 lunas\n",
      "La circunferencia polar del planeta marte es de: 6752 km\n"
     ]
    }
   ],
   "source": [
    "# Crea un diccionario llamado planet con los datos propuestos\n",
    "planet = {\n",
    "    'name': 'marte',\n",
    "    'moons': '2'\n",
    "}\n",
    "\n",
    "# Muestra el nombre del planeta y el número de lunas que tiene.\n",
    "print(f\"el planeta {planet['name'].upper()} tiene {planet['moons']} lunas\" )\n",
    "\n",
    "# Agrega la clave circunferencia con los datos proporcionados previamente\n",
    "diameter = {\n",
    "    'polar': 6752,\n",
    "    'equatorial': 6792\n",
    "}\n",
    "\n",
    "planet['diameter'] = diameter\n",
    "\n",
    "#Imprime el nombre del planeta con su circunferencia polar.\n",
    "print(f\"La circunferencia polar del planeta {planet['name']} es de: {planet['diameter']['polar']} km\")"
   ]
  },
  {
   "cell_type": "markdown",
   "metadata": {},
   "source": [
    "## ejercicio 2"
   ]
  },
  {
   "cell_type": "code",
   "execution_count": 14,
   "metadata": {},
   "outputs": [
    {
     "name": "stdout",
     "output_type": "stream",
     "text": [
      "el promedio de lunas es:  17.833333333333332\n"
     ]
    }
   ],
   "source": [
    "# Planets and moons\n",
    "\n",
    "planet_moons = {\n",
    "    'mercury': 0,\n",
    "    'venus': 0,\n",
    "    'earth': 1,\n",
    "    'mars': 2,\n",
    "    'jupiter': 79,\n",
    "    'saturn': 82,\n",
    "    'uranus': 27,\n",
    "    'neptune': 14,\n",
    "    'pluto': 5,\n",
    "    'haumea': 2,\n",
    "    'makemake': 1,\n",
    "    'eris': 1\n",
    "}\n",
    "planets = len(planet_moons)\n",
    "moons = 0\n",
    "\n",
    "# Añade el código para determinar el número de lunas.\n",
    "for name in planet_moons.keys():\n",
    "    moons = moons + planet_moons[name]\n",
    "\n",
    "print('el promedio de lunas es: ', moons/planets)"
   ]
  }
 ],
 "metadata": {
  "interpreter": {
   "hash": "e9fe5adb6c20d18e138bf59193d9e02a533cc65d36d4cea0c208e30ce467c3ce"
  },
  "kernelspec": {
   "display_name": "Python 3.10.2 ('env': venv)",
   "language": "python",
   "name": "python3"
  },
  "language_info": {
   "codemirror_mode": {
    "name": "ipython",
    "version": 3
   },
   "file_extension": ".py",
   "mimetype": "text/x-python",
   "name": "python",
   "nbconvert_exporter": "python",
   "pygments_lexer": "ipython3",
   "version": "3.10.2"
  },
  "orig_nbformat": 4
 },
 "nbformat": 4,
 "nbformat_minor": 2
}
