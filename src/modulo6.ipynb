{
 "cells": [
  {
   "cell_type": "markdown",
   "metadata": {},
   "source": [
    "## Ejercicio1: Crear y usar listas de Python"
   ]
  },
  {
   "cell_type": "code",
   "execution_count": 18,
   "metadata": {},
   "outputs": [
    {
     "name": "stdout",
     "output_type": "stream",
     "text": [
      "total de planetas:  9\n",
      "El ultimo planeta en la lista es: pluton\n"
     ]
    }
   ],
   "source": [
    "planets = ['Mercury', 'Venus', 'Earth', 'Mars', 'Jupiter', 'Saturn', 'Uranus', 'Neptune']\n",
    "\n",
    "print('total de planetas: ', len(planets)) \n",
    "\n",
    "planets.append('pluton')\n",
    "print('El ultimo planeta en la lista es:', planets[-1])\n"
   ]
  },
  {
   "cell_type": "markdown",
   "metadata": {},
   "source": [
    "## Ejercicio 2: Trabajando con datos de una lista"
   ]
  },
  {
   "cell_type": "code",
   "execution_count": 11,
   "metadata": {},
   "outputs": [
    {
     "name": "stdout",
     "output_type": "stream",
     "text": [
      "['mercury', 'venus', 'earth', 'mars', 'jupiter', 'saturn', 'uranus', 'neptune']\n",
      "planetas antes de el planeta  Earth :  ['mercury', 'venus']\n",
      "planetas despues de el planeta  Earth :  ['earth', 'mars', 'jupiter', 'saturn', 'uranus', 'neptune']\n"
     ]
    }
   ],
   "source": [
    "planets = ['mercury', 'venus', 'earth', 'mars', 'jupiter', 'saturn', 'uranus', 'neptune']\n",
    "print(planets)\n",
    "\n",
    "selectedPlanet = input('Escribe el nombre de un planeta:')\n",
    "\n",
    "indice = planets.index(selectedPlanet.lower())\n",
    "\n",
    "print('planetas mas cercanos al sol que el planeta ', selectedPlanet.title(), ': ', planets[:indice])\n",
    "print('planetas mas lejanos al sol que el planeta ', selectedPlanet.title(), ': ', planets[indice:])\n",
    "# if selectedPlanet.lower in planets:\n",
    "#     print "
   ]
  }
 ],
 "metadata": {
  "interpreter": {
   "hash": "5d240ba0dc525c389faa33f5dcce5b4f32b6d6aa6d70d6d2dd929bd2b09ab69f"
  },
  "kernelspec": {
   "display_name": "Python 3.10.2 64-bit",
   "language": "python",
   "name": "python3"
  },
  "language_info": {
   "codemirror_mode": {
    "name": "ipython",
    "version": 3
   },
   "file_extension": ".py",
   "mimetype": "text/x-python",
   "name": "python",
   "nbconvert_exporter": "python",
   "pygments_lexer": "ipython3",
   "version": "3.10.2"
  },
  "orig_nbformat": 4
 },
 "nbformat": 4,
 "nbformat_minor": 2
}
